{
 "cells": [
  {
   "cell_type": "markdown",
   "id": "772e81cf",
   "metadata": {},
   "source": [
    "$\\underline{\\text{Elements of Econometrics}}\\qquad \\qquad \\qquad \\qquad \\qquad \\qquad \\qquad \\qquad \\qquad \\qquad \\qquad \\qquad \\qquad \\qquad \\qquad$ Grigorian Artem 203\n",
    "# Artem Grigorian, gr 203, НА07, data 01, Python"
   ]
  },
  {
   "cell_type": "markdown",
   "id": "d84fc180",
   "metadata": {},
   "source": [
    "## №1\n",
    "In a certain bond market the demand for bonds, $B_t$, in period $t$ is negatively related to the expected interest rate, $i^e_{t+1}$, in period $t+1$:\n",
    "\\begin{equation}\n",
    "{\n",
    "    B_t=\\beta_1+\\beta_2i^e_{t+1}+u_t \\qquad\\qquad\\qquad\\text{(1)}\n",
    "}\n",
    "\\end{equation}\n",
    "where $u_t$ is a disturbance term not subject to autocorrelation. The expected interest rate is determined by an adaptive expectations process:\n",
    "\\begin{equation}\n",
    "{\n",
    "    i^e_{t+1}-i^e_t=\\lambda(i_t-i^e_t) \\qquad\\qquad\\qquad\\text{(2)}\n",
    "}\n",
    "\\end{equation}\n",
    "where $i_t$ is the actual rate of interest in period t. A researcher uses the following model to fit the relationship:\n",
    "\\begin{equation}\n",
    "{\n",
    "    B_t=\\gamma_1+\\gamma_2i_t+\\gamma_3B_{t-1}+v_t \\qquad\\qquad\\qquad\\text{(3)}\n",
    "}\n",
    "\\end{equation}\n",
    "where $v_t$ is a disturbance term."
   ]
  },
  {
   "cell_type": "markdown",
   "id": "01b56ab9",
   "metadata": {},
   "source": [
    "### 1.1 \n",
    "#### Show how the model (3) may be derived from the demand function and the adaptive expectations process. Use finite (one-step) Koyck transformation. "
   ]
  },
  {
   "cell_type": "markdown",
   "id": "3d92c613",
   "metadata": {},
   "source": [
    "\\begin{equation}\n",
    "{\n",
    "    B_t = \\beta_1+\\beta_2i^e_{t+1}+u_t = \\beta_1+\\beta_2(\\lambda(i_t-i^e_t)+i^e_t)+u_t = \\beta_1+\\beta_2(\\lambda i_t-(\\lambda-1)i^e_t)+u_t\n",
    "}\n",
    "\\end{equation}"
   ]
  },
  {
   "cell_type": "markdown",
   "id": "835170c5",
   "metadata": {},
   "source": [
    "Let's take $B_{t-1}$: $\\qquad B_{t-1} = \\beta_1+\\beta_2i^e_{t}+u_{t-1}$\\\n",
    "Let's multiply by $\\gamma_3$:$\\qquad \\gamma_3 B_{t-1} = \\gamma_3\\beta_1+\\gamma_3\\beta_2i^e_{t} + \\gamma_3u_{t-1}$\\\n",
    "\\\n",
    "let $v_t = u_t-\\gamma_3 u_{t-1}$"
   ]
  },
  {
   "cell_type": "markdown",
   "id": "13dd1232",
   "metadata": {},
   "source": [
    "From equations above we get:\n",
    "\\begin{equation}\n",
    "{\n",
    "    B_t - \\gamma_3 B_{t-1} = \\beta_1(1-\\gamma_3) + \\beta_2(\\lambda i_t-(\\lambda-1)i^e_t - \\gamma_3i^e_{t}) + v_t \\\\ \n",
    "     let \\quad \\gamma_3 = 1-\\lambda\n",
    "}\n",
    "\\end{equation}\n",
    "\\begin{equation}\n",
    "{\n",
    "    B_t - \\gamma_3 B_{t-1} = \\underbrace{\\beta_1(1-\\gamma_3)}_{\\gamma_1} + \\underbrace{\\beta_2\\lambda}_{\\gamma_2} i_t + v_t\\\\\n",
    "    B_t  = \\gamma_1 + \\gamma_2 i_t + \\gamma_3 B_{t-1} + v_t\n",
    "}\n",
    "\\end{equation}\n",
    "Here is the equation of model (3)"
   ]
  },
  {
   "cell_type": "markdown",
   "id": "f7dd0f46",
   "metadata": {},
   "source": [
    "### 1.2\n",
    "#### Explain why inconsistent estimates of the parameters will be obtained if equation (3) is fitted using ordinary least squares (OLS). "
   ]
  },
  {
   "cell_type": "markdown",
   "id": "fdbb39f5",
   "metadata": {},
   "source": [
    "Term $Y_{t-1}$ is correlated with disturbance term $v_t$.\n",
    "Therefore, direct OLS gives biased and inconsistent estimates"
   ]
  },
  {
   "cell_type": "markdown",
   "id": "1c7a98ef",
   "metadata": {},
   "source": [
    "### 1.3 \n",
    "#### Describe a method for fitting the model that would yield consistent estimates. "
   ]
  },
  {
   "cell_type": "markdown",
   "id": "1592082e",
   "metadata": {},
   "source": [
    "For consistent estimates we need a model with non-linear parameters, such as parameters following polynomial or Koyck distribution."
   ]
  },
  {
   "cell_type": "markdown",
   "id": "2be877e2",
   "metadata": {},
   "source": [
    "## №2\n",
    "The regression output gives the result of regressing LGELEC, the logarithm of consumer expenditure on electricity, on LGDPI, the logarithm of disposable personal income, LGPRELEC, the logarithm of a relative price index for electricity, and LGELEC lagged one year, using annual aggregate data for the United States for the period 1960 - 1994. Potential problems of nonstationarity may be ignored.\n",
    "\\begin{equation}\n",
    "{\n",
    "    LGELEC = \\underset{(0.836)}{-0.0367}+ \\underset{(0.135)}{0.0753}LGDPI - \\underset{(0.052)}{0.0447}LGPRELEC + \\underset{(0.100)}{0.9161}LGELEC(-1) \\qquad R^2=0.998\n",
    "}\n",
    "\\end{equation}"
   ]
  },
  {
   "cell_type": "markdown",
   "id": "cbb75917",
   "metadata": {},
   "source": [
    "### 2.1 \n",
    "#### □ Show how this regression specification could be derived from a partial adjustment model."
   ]
  },
  {
   "cell_type": "markdown",
   "id": "7dcc3842",
   "metadata": {},
   "source": []
  },
  {
   "cell_type": "markdown",
   "id": "6db6a849",
   "metadata": {},
   "source": [
    "#### □ Explain the short-run and long-run dynamics inherent in such a model."
   ]
  },
  {
   "cell_type": "markdown",
   "id": "70211bc3",
   "metadata": {},
   "source": []
  },
  {
   "cell_type": "markdown",
   "id": "bddcd889",
   "metadata": {},
   "source": [
    "### 2.2. \n",
    "#### □ Give an economic interpretation of the regression results, paying attention to both short-run and long-run dynamics. Comment on the plausibility of the estimated short-run and long-run effects."
   ]
  },
  {
   "cell_type": "markdown",
   "id": "3ba40c42",
   "metadata": {},
   "source": []
  },
  {
   "cell_type": "markdown",
   "id": "4c6a313c",
   "metadata": {},
   "source": [
    "#### □ At a seminar, a commentator points out that the regression specification could also have been derived from an adaptive expectations model. State whether the adaptive expectations model might be a more suitable framework for this model."
   ]
  },
  {
   "cell_type": "markdown",
   "id": "d6cd21e1",
   "metadata": {},
   "source": []
  },
  {
   "cell_type": "markdown",
   "id": "0cc4d788",
   "metadata": {},
   "source": [
    "#### □ Based on which economic and/or econometric considerations can one choose between two interpretations of the constructed model (partial adjustment scheme or adaptive expectation scheme)?"
   ]
  },
  {
   "cell_type": "markdown",
   "id": "66cedc7b",
   "metadata": {},
   "source": []
  },
  {
   "cell_type": "markdown",
   "id": "d57000f2",
   "metadata": {},
   "source": [
    "## №3"
   ]
  },
  {
   "cell_type": "code",
   "execution_count": 10,
   "id": "c1735fcf",
   "metadata": {},
   "outputs": [
    {
     "data": {
      "text/html": [
       "<div>\n",
       "<style scoped>\n",
       "    .dataframe tbody tr th:only-of-type {\n",
       "        vertical-align: middle;\n",
       "    }\n",
       "\n",
       "    .dataframe tbody tr th {\n",
       "        vertical-align: top;\n",
       "    }\n",
       "\n",
       "    .dataframe thead th {\n",
       "        text-align: right;\n",
       "    }\n",
       "</style>\n",
       "<table border=\"1\" class=\"dataframe\">\n",
       "  <thead>\n",
       "    <tr style=\"text-align: right;\">\n",
       "      <th></th>\n",
       "      <th>obs</th>\n",
       "      <th>LGBUSI</th>\n",
       "      <th>LGDPI</th>\n",
       "      <th>LGPRBUSI</th>\n",
       "    </tr>\n",
       "  </thead>\n",
       "  <tbody>\n",
       "    <tr>\n",
       "      <th>0</th>\n",
       "      <td>1959</td>\n",
       "      <td>5.491442</td>\n",
       "      <td>7.447460</td>\n",
       "      <td>4.509238</td>\n",
       "    </tr>\n",
       "    <tr>\n",
       "      <th>1</th>\n",
       "      <td>1960</td>\n",
       "      <td>5.542553</td>\n",
       "      <td>7.472899</td>\n",
       "      <td>4.508795</td>\n",
       "    </tr>\n",
       "    <tr>\n",
       "      <th>2</th>\n",
       "      <td>1961</td>\n",
       "      <td>5.589825</td>\n",
       "      <td>7.506152</td>\n",
       "      <td>4.512045</td>\n",
       "    </tr>\n",
       "    <tr>\n",
       "      <th>3</th>\n",
       "      <td>1962</td>\n",
       "      <td>5.644905</td>\n",
       "      <td>7.553916</td>\n",
       "      <td>4.512456</td>\n",
       "    </tr>\n",
       "    <tr>\n",
       "      <th>4</th>\n",
       "      <td>1963</td>\n",
       "      <td>5.690195</td>\n",
       "      <td>7.590397</td>\n",
       "      <td>4.512858</td>\n",
       "    </tr>\n",
       "  </tbody>\n",
       "</table>\n",
       "</div>"
      ],
      "text/plain": [
       "    obs    LGBUSI     LGDPI  LGPRBUSI\n",
       "0  1959  5.491442  7.447460  4.509238\n",
       "1  1960  5.542553  7.472899  4.508795\n",
       "2  1961  5.589825  7.506152  4.512045\n",
       "3  1962  5.644905  7.553916  4.512456\n",
       "4  1963  5.690195  7.590397  4.512858"
      ]
     },
     "execution_count": 10,
     "metadata": {},
     "output_type": "execute_result"
    }
   ],
   "source": [
    "import numpy as np\n",
    "import pandas as pd\n",
    "import matplotlib.pyplot as plt\n",
    "import seaborn as sns\n",
    "import statsmodels.api as sm\n",
    "from sklearn.model_selection import train_test_split as tts\n",
    "from sklearn.linear_model import LinearRegression\n",
    "import warnings\n",
    "warnings.simplefilter(action='ignore', category=FutureWarning)\n",
    "\n",
    "df = pd.read_csv('ha07_data01.csv')\n",
    "df.head()"
   ]
  },
  {
   "cell_type": "markdown",
   "id": "2e8d03d7",
   "metadata": {},
   "source": [
    "### 3.1"
   ]
  },
  {
   "cell_type": "code",
   "execution_count": 11,
   "id": "aa482a23",
   "metadata": {},
   "outputs": [
    {
     "name": "stdout",
     "output_type": "stream",
     "text": [
      "                            OLS Regression Results                            \n",
      "==============================================================================\n",
      "Dep. Variable:                 LGBUSI   R-squared:                       0.999\n",
      "Model:                            OLS   Adj. R-squared:                  0.999\n",
      "Method:                 Least Squares   F-statistic:                 1.480e+04\n",
      "Date:                Mon, 30 Jan 2023   Prob (F-statistic):           1.51e-60\n",
      "Time:                        22:14:58   Log-Likelihood:                 121.43\n",
      "No. Observations:                  45   AIC:                            -236.9\n",
      "Df Residuals:                      42   BIC:                            -231.4\n",
      "Df Model:                           2                                         \n",
      "Covariance Type:            nonrobust                                         \n",
      "==============================================================================\n",
      "                 coef    std err          t      P>|t|      [0.025      0.975]\n",
      "------------------------------------------------------------------------------\n",
      "const          0.0056      0.168      0.034      0.973      -0.333       0.344\n",
      "LGDPI          1.0319      0.007    155.198      0.000       1.018       1.045\n",
      "LGPRBUSI      -0.4834      0.042    -11.571      0.000      -0.568      -0.399\n",
      "==============================================================================\n",
      "Omnibus:                        3.008   Durbin-Watson:                   0.633\n",
      "Prob(Omnibus):                  0.222   Jarque-Bera (JB):                1.637\n",
      "Skew:                           0.149   Prob(JB):                        0.441\n",
      "Kurtosis:                       2.114   Cond. No.                         651.\n",
      "==============================================================================\n",
      "\n",
      "Notes:\n",
      "[1] Standard Errors assume that the covariance matrix of the errors is correctly specified.\n"
     ]
    }
   ],
   "source": [
    "# □\n",
    "Model1 = sm.OLS(df.LGBUSI, sm.add_constant(df[['LGDPI', 'LGPRBUSI']])).fit()\n",
    "print(Model1.summary())"
   ]
  },
  {
   "cell_type": "markdown",
   "id": "140eb377",
   "metadata": {},
   "source": [
    "### $Y_t = 0.0056 + 1.0319 X_t - 0.4834 Z_t + u_t \\qquad (1)$\n",
    "1. So intercept is 0.0056, which mean that with 0% of index of the prices of the entire basket of goods and services, and with 0% of total personal disposable income, the total personal business expenditure of US residents equals 0.0056%\n",
    "2. With each per cent in DPI, BUSI rises to 1.0319%\n",
    "3. With each per cent in PRELBUSI, BUSI drops by 0.4834%"
   ]
  },
  {
   "cell_type": "markdown",
   "id": "a7f4fcf7",
   "metadata": {},
   "source": [
    "□"
   ]
  },
  {
   "cell_type": "code",
   "execution_count": 12,
   "id": "1ac5bc03",
   "metadata": {},
   "outputs": [
    {
     "data": {
      "text/html": [
       "<div>\n",
       "<style scoped>\n",
       "    .dataframe tbody tr th:only-of-type {\n",
       "        vertical-align: middle;\n",
       "    }\n",
       "\n",
       "    .dataframe tbody tr th {\n",
       "        vertical-align: top;\n",
       "    }\n",
       "\n",
       "    .dataframe thead th {\n",
       "        text-align: right;\n",
       "    }\n",
       "</style>\n",
       "<table border=\"1\" class=\"dataframe\">\n",
       "  <thead>\n",
       "    <tr style=\"text-align: right;\">\n",
       "      <th></th>\n",
       "      <th>obs</th>\n",
       "      <th>LGBUSI</th>\n",
       "      <th>LGDPI</th>\n",
       "      <th>LGPRBUSI</th>\n",
       "      <th>LGDPI_(t-1)</th>\n",
       "    </tr>\n",
       "  </thead>\n",
       "  <tbody>\n",
       "    <tr>\n",
       "      <th>0</th>\n",
       "      <td>1959</td>\n",
       "      <td>5.491442</td>\n",
       "      <td>7.447460</td>\n",
       "      <td>4.509238</td>\n",
       "      <td>NaN</td>\n",
       "    </tr>\n",
       "    <tr>\n",
       "      <th>1</th>\n",
       "      <td>1960</td>\n",
       "      <td>5.542553</td>\n",
       "      <td>7.472899</td>\n",
       "      <td>4.508795</td>\n",
       "      <td>7.447460</td>\n",
       "    </tr>\n",
       "    <tr>\n",
       "      <th>2</th>\n",
       "      <td>1961</td>\n",
       "      <td>5.589825</td>\n",
       "      <td>7.506152</td>\n",
       "      <td>4.512045</td>\n",
       "      <td>7.472899</td>\n",
       "    </tr>\n",
       "    <tr>\n",
       "      <th>3</th>\n",
       "      <td>1962</td>\n",
       "      <td>5.644905</td>\n",
       "      <td>7.553916</td>\n",
       "      <td>4.512456</td>\n",
       "      <td>7.506152</td>\n",
       "    </tr>\n",
       "    <tr>\n",
       "      <th>4</th>\n",
       "      <td>1963</td>\n",
       "      <td>5.690195</td>\n",
       "      <td>7.590397</td>\n",
       "      <td>4.512858</td>\n",
       "      <td>7.553916</td>\n",
       "    </tr>\n",
       "  </tbody>\n",
       "</table>\n",
       "</div>"
      ],
      "text/plain": [
       "    obs    LGBUSI     LGDPI  LGPRBUSI  LGDPI_(t-1)\n",
       "0  1959  5.491442  7.447460  4.509238          NaN\n",
       "1  1960  5.542553  7.472899  4.508795     7.447460\n",
       "2  1961  5.589825  7.506152  4.512045     7.472899\n",
       "3  1962  5.644905  7.553916  4.512456     7.506152\n",
       "4  1963  5.690195  7.590397  4.512858     7.553916"
      ]
     },
     "execution_count": 12,
     "metadata": {},
     "output_type": "execute_result"
    }
   ],
   "source": [
    "# □\n",
    "df['LGDPI_(t-1)'] = df.LGDPI.shift(1)\n",
    "df.head()"
   ]
  },
  {
   "cell_type": "code",
   "execution_count": 13,
   "id": "3c9cd70d",
   "metadata": {},
   "outputs": [
    {
     "name": "stdout",
     "output_type": "stream",
     "text": [
      "                            OLS Regression Results                            \n",
      "==============================================================================\n",
      "Dep. Variable:                 LGBUSI   R-squared:                       0.999\n",
      "Model:                            OLS   Adj. R-squared:                  0.999\n",
      "Method:                 Least Squares   F-statistic:                 1.237e+04\n",
      "Date:                Mon, 30 Jan 2023   Prob (F-statistic):           2.25e-59\n",
      "Time:                        22:20:04   Log-Likelihood:                 126.40\n",
      "No. Observations:                  44   AIC:                            -244.8\n",
      "Df Residuals:                      40   BIC:                            -237.7\n",
      "Df Model:                           3                                         \n",
      "Covariance Type:            nonrobust                                         \n",
      "===============================================================================\n",
      "                  coef    std err          t      P>|t|      [0.025      0.975]\n",
      "-------------------------------------------------------------------------------\n",
      "const          -0.0707      0.144     -0.490      0.627      -0.362       0.221\n",
      "LGDPI           0.4452      0.147      3.031      0.004       0.148       0.742\n",
      "LGPRBUSI       -0.4385      0.037    -11.754      0.000      -0.514      -0.363\n",
      "LGDPI_(t-1)     0.5740      0.144      3.978      0.000       0.282       0.866\n",
      "==============================================================================\n",
      "Omnibus:                        6.778   Durbin-Watson:                   0.446\n",
      "Prob(Omnibus):                  0.034   Jarque-Bera (JB):                2.252\n",
      "Skew:                           0.005   Prob(JB):                        0.324\n",
      "Kurtosis:                       1.892   Cond. No.                     1.20e+03\n",
      "==============================================================================\n",
      "\n",
      "Notes:\n",
      "[1] Standard Errors assume that the covariance matrix of the errors is correctly specified.\n",
      "[2] The condition number is large, 1.2e+03. This might indicate that there are\n",
      "strong multicollinearity or other numerical problems.\n"
     ]
    }
   ],
   "source": [
    "df2 = df.drop(0, axis=0)\n",
    "Model2 = sm.OLS(df2.LGBUSI, sm.add_constant(df2[['LGDPI', 'LGPRBUSI', 'LGDPI_(t-1)']])).fit()\n",
    "print(Model2.summary())"
   ]
  },
  {
   "cell_type": "markdown",
   "id": "ea65bc5f",
   "metadata": {},
   "source": [
    "### $Y_t = -0.0707 + 0.4452 X_t + 0.5740 X_{t-1}- 0.4385 Z_t + u_t \\qquad (2)$"
   ]
  },
  {
   "cell_type": "code",
   "execution_count": 14,
   "id": "a70093a1",
   "metadata": {},
   "outputs": [
    {
     "data": {
      "text/html": [
       "<div>\n",
       "<style scoped>\n",
       "    .dataframe tbody tr th:only-of-type {\n",
       "        vertical-align: middle;\n",
       "    }\n",
       "\n",
       "    .dataframe tbody tr th {\n",
       "        vertical-align: top;\n",
       "    }\n",
       "\n",
       "    .dataframe thead th {\n",
       "        text-align: right;\n",
       "    }\n",
       "</style>\n",
       "<table border=\"1\" class=\"dataframe\">\n",
       "  <thead>\n",
       "    <tr style=\"text-align: right;\">\n",
       "      <th></th>\n",
       "      <th>obs</th>\n",
       "      <th>LGBUSI</th>\n",
       "      <th>LGDPI</th>\n",
       "      <th>LGPRBUSI</th>\n",
       "      <th>LGDPI_(t-1)</th>\n",
       "      <th>LGDPI_(t-2)</th>\n",
       "    </tr>\n",
       "  </thead>\n",
       "  <tbody>\n",
       "    <tr>\n",
       "      <th>0</th>\n",
       "      <td>1959</td>\n",
       "      <td>5.491442</td>\n",
       "      <td>7.447460</td>\n",
       "      <td>4.509238</td>\n",
       "      <td>NaN</td>\n",
       "      <td>NaN</td>\n",
       "    </tr>\n",
       "    <tr>\n",
       "      <th>1</th>\n",
       "      <td>1960</td>\n",
       "      <td>5.542553</td>\n",
       "      <td>7.472899</td>\n",
       "      <td>4.508795</td>\n",
       "      <td>7.447460</td>\n",
       "      <td>NaN</td>\n",
       "    </tr>\n",
       "    <tr>\n",
       "      <th>2</th>\n",
       "      <td>1961</td>\n",
       "      <td>5.589825</td>\n",
       "      <td>7.506152</td>\n",
       "      <td>4.512045</td>\n",
       "      <td>7.472899</td>\n",
       "      <td>7.447460</td>\n",
       "    </tr>\n",
       "    <tr>\n",
       "      <th>3</th>\n",
       "      <td>1962</td>\n",
       "      <td>5.644905</td>\n",
       "      <td>7.553916</td>\n",
       "      <td>4.512456</td>\n",
       "      <td>7.506152</td>\n",
       "      <td>7.472899</td>\n",
       "    </tr>\n",
       "    <tr>\n",
       "      <th>4</th>\n",
       "      <td>1963</td>\n",
       "      <td>5.690195</td>\n",
       "      <td>7.590397</td>\n",
       "      <td>4.512858</td>\n",
       "      <td>7.553916</td>\n",
       "      <td>7.506152</td>\n",
       "    </tr>\n",
       "  </tbody>\n",
       "</table>\n",
       "</div>"
      ],
      "text/plain": [
       "    obs    LGBUSI     LGDPI  LGPRBUSI  LGDPI_(t-1)  LGDPI_(t-2)\n",
       "0  1959  5.491442  7.447460  4.509238          NaN          NaN\n",
       "1  1960  5.542553  7.472899  4.508795     7.447460          NaN\n",
       "2  1961  5.589825  7.506152  4.512045     7.472899     7.447460\n",
       "3  1962  5.644905  7.553916  4.512456     7.506152     7.472899\n",
       "4  1963  5.690195  7.590397  4.512858     7.553916     7.506152"
      ]
     },
     "execution_count": 14,
     "metadata": {},
     "output_type": "execute_result"
    }
   ],
   "source": [
    "df['LGDPI_(t-2)'] = df.LGDPI.shift(2)\n",
    "df.head()"
   ]
  },
  {
   "cell_type": "code",
   "execution_count": 15,
   "id": "11031cb9",
   "metadata": {},
   "outputs": [
    {
     "name": "stdout",
     "output_type": "stream",
     "text": [
      "                            OLS Regression Results                            \n",
      "==============================================================================\n",
      "Dep. Variable:                 LGBUSI   R-squared:                       0.999\n",
      "Model:                            OLS   Adj. R-squared:                  0.999\n",
      "Method:                 Least Squares   F-statistic:                 1.022e+04\n",
      "Date:                Mon, 30 Jan 2023   Prob (F-statistic):           4.94e-57\n",
      "Time:                        22:22:29   Log-Likelihood:                 128.31\n",
      "No. Observations:                  43   AIC:                            -246.6\n",
      "Df Residuals:                      38   BIC:                            -237.8\n",
      "Df Model:                           4                                         \n",
      "Covariance Type:            nonrobust                                         \n",
      "===============================================================================\n",
      "                  coef    std err          t      P>|t|      [0.025      0.975]\n",
      "-------------------------------------------------------------------------------\n",
      "const          -0.1251      0.133     -0.941      0.353      -0.394       0.144\n",
      "LGDPI           0.4143      0.138      2.995      0.005       0.134       0.694\n",
      "LGPRBUSI       -0.4056      0.036    -11.263      0.000      -0.479      -0.333\n",
      "LGDPI_(t-1)     0.1891      0.191      0.991      0.328      -0.197       0.575\n",
      "LGDPI_(t-2)     0.4062      0.131      3.106      0.004       0.141       0.671\n",
      "==============================================================================\n",
      "Omnibus:                        4.848   Durbin-Watson:                   0.455\n",
      "Prob(Omnibus):                  0.089   Jarque-Bera (JB):                2.393\n",
      "Skew:                          -0.300   Prob(JB):                        0.302\n",
      "Kurtosis:                       2.012   Cond. No.                     1.78e+03\n",
      "==============================================================================\n",
      "\n",
      "Notes:\n",
      "[1] Standard Errors assume that the covariance matrix of the errors is correctly specified.\n",
      "[2] The condition number is large, 1.78e+03. This might indicate that there are\n",
      "strong multicollinearity or other numerical problems.\n"
     ]
    }
   ],
   "source": [
    "df3 = df.drop([0,1], axis=0)\n",
    "Model3 = sm.OLS(df3.LGBUSI, sm.add_constant(df3[['LGDPI', 'LGPRBUSI', 'LGDPI_(t-1)', 'LGDPI_(t-2)']])).fit()\n",
    "print(Model3.summary())"
   ]
  },
  {
   "cell_type": "markdown",
   "id": "b83f1f5f",
   "metadata": {},
   "source": [
    "### $Y_t = -0.1251 + 0.4143 X_t + 0.1891 X_{t-1} + 0.4062X_{t-2} - 0.4056 Z_t + u_t \\qquad(3)$"
   ]
  },
  {
   "cell_type": "code",
   "execution_count": 16,
   "id": "3af8524e",
   "metadata": {},
   "outputs": [
    {
     "data": {
      "text/html": [
       "<div>\n",
       "<style scoped>\n",
       "    .dataframe tbody tr th:only-of-type {\n",
       "        vertical-align: middle;\n",
       "    }\n",
       "\n",
       "    .dataframe tbody tr th {\n",
       "        vertical-align: top;\n",
       "    }\n",
       "\n",
       "    .dataframe thead th {\n",
       "        text-align: right;\n",
       "    }\n",
       "</style>\n",
       "<table border=\"1\" class=\"dataframe\">\n",
       "  <thead>\n",
       "    <tr style=\"text-align: right;\">\n",
       "      <th></th>\n",
       "      <th>obs</th>\n",
       "      <th>LGBUSI</th>\n",
       "      <th>LGDPI</th>\n",
       "      <th>LGPRBUSI</th>\n",
       "      <th>LGDPI_(t-1)</th>\n",
       "      <th>LGDPI_(t-2)</th>\n",
       "      <th>LGDPI_(t-3)</th>\n",
       "    </tr>\n",
       "  </thead>\n",
       "  <tbody>\n",
       "    <tr>\n",
       "      <th>0</th>\n",
       "      <td>1959</td>\n",
       "      <td>5.491442</td>\n",
       "      <td>7.447460</td>\n",
       "      <td>4.509238</td>\n",
       "      <td>NaN</td>\n",
       "      <td>NaN</td>\n",
       "      <td>NaN</td>\n",
       "    </tr>\n",
       "    <tr>\n",
       "      <th>1</th>\n",
       "      <td>1960</td>\n",
       "      <td>5.542553</td>\n",
       "      <td>7.472899</td>\n",
       "      <td>4.508795</td>\n",
       "      <td>7.447460</td>\n",
       "      <td>NaN</td>\n",
       "      <td>NaN</td>\n",
       "    </tr>\n",
       "    <tr>\n",
       "      <th>2</th>\n",
       "      <td>1961</td>\n",
       "      <td>5.589825</td>\n",
       "      <td>7.506152</td>\n",
       "      <td>4.512045</td>\n",
       "      <td>7.472899</td>\n",
       "      <td>7.447460</td>\n",
       "      <td>NaN</td>\n",
       "    </tr>\n",
       "    <tr>\n",
       "      <th>3</th>\n",
       "      <td>1962</td>\n",
       "      <td>5.644905</td>\n",
       "      <td>7.553916</td>\n",
       "      <td>4.512456</td>\n",
       "      <td>7.506152</td>\n",
       "      <td>7.472899</td>\n",
       "      <td>7.447460</td>\n",
       "    </tr>\n",
       "    <tr>\n",
       "      <th>4</th>\n",
       "      <td>1963</td>\n",
       "      <td>5.690195</td>\n",
       "      <td>7.590397</td>\n",
       "      <td>4.512858</td>\n",
       "      <td>7.553916</td>\n",
       "      <td>7.506152</td>\n",
       "      <td>7.472899</td>\n",
       "    </tr>\n",
       "  </tbody>\n",
       "</table>\n",
       "</div>"
      ],
      "text/plain": [
       "    obs    LGBUSI     LGDPI  LGPRBUSI  LGDPI_(t-1)  LGDPI_(t-2)  LGDPI_(t-3)\n",
       "0  1959  5.491442  7.447460  4.509238          NaN          NaN          NaN\n",
       "1  1960  5.542553  7.472899  4.508795     7.447460          NaN          NaN\n",
       "2  1961  5.589825  7.506152  4.512045     7.472899     7.447460          NaN\n",
       "3  1962  5.644905  7.553916  4.512456     7.506152     7.472899     7.447460\n",
       "4  1963  5.690195  7.590397  4.512858     7.553916     7.506152     7.472899"
      ]
     },
     "execution_count": 16,
     "metadata": {},
     "output_type": "execute_result"
    }
   ],
   "source": [
    "df['LGDPI_(t-3)'] = df.LGDPI.shift(3)\n",
    "df.head()"
   ]
  },
  {
   "cell_type": "code",
   "execution_count": 17,
   "id": "9ba176a8",
   "metadata": {},
   "outputs": [
    {
     "name": "stdout",
     "output_type": "stream",
     "text": [
      "                            OLS Regression Results                            \n",
      "==============================================================================\n",
      "Dep. Variable:                 LGBUSI   R-squared:                       0.999\n",
      "Model:                            OLS   Adj. R-squared:                  0.999\n",
      "Method:                 Least Squares   F-statistic:                     8339.\n",
      "Date:                Mon, 30 Jan 2023   Prob (F-statistic):           4.44e-54\n",
      "Time:                        22:24:51   Log-Likelihood:                 128.52\n",
      "No. Observations:                  42   AIC:                            -245.0\n",
      "Df Residuals:                      36   BIC:                            -234.6\n",
      "Df Model:                           5                                         \n",
      "Covariance Type:            nonrobust                                         \n",
      "===============================================================================\n",
      "                  coef    std err          t      P>|t|      [0.025      0.975]\n",
      "-------------------------------------------------------------------------------\n",
      "const          -0.1464      0.128     -1.147      0.259      -0.405       0.113\n",
      "LGDPI           0.3966      0.134      2.957      0.005       0.125       0.669\n",
      "LGPRBUSI       -0.3862      0.037    -10.529      0.000      -0.461      -0.312\n",
      "LGDPI_(t-1)     0.2025      0.180      1.126      0.267      -0.162       0.567\n",
      "LGDPI_(t-2)     0.0867      0.180      0.481      0.634      -0.279       0.452\n",
      "LGDPI_(t-3)     0.3174      0.122      2.603      0.013       0.070       0.565\n",
      "==============================================================================\n",
      "Omnibus:                        3.237   Durbin-Watson:                   0.431\n",
      "Prob(Omnibus):                  0.198   Jarque-Bera (JB):                2.037\n",
      "Skew:                          -0.319   Prob(JB):                        0.361\n",
      "Kurtosis:                       2.130   Cond. No.                     2.14e+03\n",
      "==============================================================================\n",
      "\n",
      "Notes:\n",
      "[1] Standard Errors assume that the covariance matrix of the errors is correctly specified.\n",
      "[2] The condition number is large, 2.14e+03. This might indicate that there are\n",
      "strong multicollinearity or other numerical problems.\n"
     ]
    }
   ],
   "source": [
    "df4 = df.drop([0,1,2], axis=0)\n",
    "Model4 = sm.OLS(df4.LGBUSI, sm.add_constant(df4[['LGDPI', 'LGPRBUSI', 'LGDPI_(t-1)', 'LGDPI_(t-2)', 'LGDPI_(t-3)']])).fit()\n",
    "print(Model4.summary())"
   ]
  },
  {
   "cell_type": "markdown",
   "id": "1ee596ea",
   "metadata": {},
   "source": [
    "### $Y_t = -0.1464 + 0.3966 X_t + 0.2025 X_{t-1} + 0.0867 X_{t-2} +  0.3174 X_{t-3} - 0.3862 Z_t + u_t \\qquad(4)$"
   ]
  },
  {
   "cell_type": "markdown",
   "id": "369dad94",
   "metadata": {},
   "source": [
    "### 3.2"
   ]
  },
  {
   "cell_type": "markdown",
   "id": "593005d8",
   "metadata": {},
   "source": []
  },
  {
   "cell_type": "markdown",
   "id": "7a735b9c",
   "metadata": {},
   "source": [
    "### 3.3"
   ]
  },
  {
   "cell_type": "markdown",
   "id": "0f27c973",
   "metadata": {},
   "source": []
  }
 ],
 "metadata": {
  "kernelspec": {
   "display_name": "Python 3 (ipykernel)",
   "language": "python",
   "name": "python3"
  },
  "language_info": {
   "codemirror_mode": {
    "name": "ipython",
    "version": 3
   },
   "file_extension": ".py",
   "mimetype": "text/x-python",
   "name": "python",
   "nbconvert_exporter": "python",
   "pygments_lexer": "ipython3",
   "version": "3.9.16"
  }
 },
 "nbformat": 4,
 "nbformat_minor": 5
}

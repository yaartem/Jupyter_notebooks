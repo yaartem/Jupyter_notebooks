{
 "cells": [
  {
   "cell_type": "markdown",
   "id": "c017ad1e",
   "metadata": {},
   "source": [
    "# Artem Grigorian, gr 203, НА04, data 01, Python"
   ]
  },
  {
   "cell_type": "markdown",
   "id": "11f77f4f",
   "metadata": {},
   "source": [
    "## №1\n",
    "A student of ICEF considers for her graduation thesis the hedonic price function for houses.\n",
    "The hedonic price refers to the implicit price of a house given certain attributes (e.g., the number of bedrooms).\n",
    "The data contains the sale price of 546 houses sold in the summer of 2017 in the Moscow region (in thousands\n",
    "of rubles) along with their important features. The following characteristics are available: the lot size of the\n",
    "property in square meters (lotsize), the numbers of bedrooms (bedrooms), the number of full bathrooms\n",
    "(bathrooms), and a dummy indicating the presence of air-conditioning (airco).\n",
    "Consider the following ordinary least squares results\n",
    "\\begin{align}\n",
    "\\hat{\\log(price)} = \\underset{[0.233]}{\\underset{(0.232)}{9.894}} + \\underset{[0.028]}{\\underset{(0.028)}{0.4}}*\\log(lotsize) - \\underset{[0.017]}{\\underset{(0.015)}{0.078}}*bedrooms + \\underset{[0.024]}{\\underset{(0.023)}{0.096}}*bathrooms + \\underset{[0.023]}{\\underset{(0.024)}{0.212}}*airco\n",
    "\\end{align}\n",
    "The usual standard errors are in parentheses, the heteroskedasticity robust standard errors are in square\n",
    "brackets, and RSS measures the residual sum of squares."
   ]
  },
  {
   "cell_type": "markdown",
   "id": "492d7da0",
   "metadata": {},
   "source": [
    "### 1.1\n",
    "#### □ Interpret the parameter estimates $log(lotsize)$ on $bedrooms$, and $airco$. Discuss also the intercept. Comment the differences in standard errors of two types.\n",
    "\n",
    "In this model, parameter estimate of:\\\n",
    "intercept means that default price without lot, bedrooms, bathrooms, air conditioning will be $e^{9.894}$ thousands of rubles\\\n",
    "$\\log(lotsize)$ means that lot size elasticity of price is 0.04\\\n",
    "$bedrooms$ means that for each additional bedroom, the price increase by 7.8%\\\n",
    "$airco$ means that there is a air conditioning in the house, the price increases by 21.2% \n",
    "\n",
    "Heterosodasticity robust standard errors is used specifically in cases when there exist heterosodastic residuals. They help to get $SE$ in OLS coeficients when heterosodasticity is found. Mostly they turn to be more than normal $SE$, but not always;.\n",
    "\n",
    "#### □ The variable $airco$ is a dummy variable so it can take only two values so interpretation based on the properties of infinitely small values above is not quite correct. Calculate the effect of having airconditioning on the price of a flat and compare it with the result based on the analysis of differentials obtained above\n",
    "\n",
    "According to this regression, the price would increase $e^{0.212}$ times thousands of rubles, if there is air conditioning."
   ]
  },
  {
   "cell_type": "markdown",
   "id": "5b202abf",
   "metadata": {},
   "source": [
    "### 1.2\n",
    "#### □ The student suspects the presence of heteroscedasticity in the data. She noticed that the variance of $log(price)$ is increasing with $log(lotsize)$. To test for heteroscedasticity she orders the 546 observations by the magnitude. Then she runs the same regression (1) using 212 observations with the smallest values of $log(lotsize)$, obtaining $RSS_1 = 7.781$, and then runs the same regression for 90 observations with the largest values of $log(lotsize)$, obtaining $RSS_2 = 6.214$ (an unequal number of observations was taken due to the fact that number of lots with high prices turned out to be significantly less). Help the student to run the appropriate test and to make the conclusion.\n",
    "\n",
    "##### Goldfield Quandt:\n",
    "\n",
    "$\n",
    "H_0: homoscedasticity \n",
    "\\newline\n",
    "H_1: heteroscedasticity\n",
    "\\newline\n",
    "F = \\frac{^{RSS_2}/_{(n_2-k)}}{^{RSS_1}/_{(n_1-k)}} = \\frac{^{6.214}/_{(90-5)}}{^{7.781}/_{212-5}} = 1,945\n",
    "\\newline\n",
    "F_{crit} = F_{0,95}(85; 207)=1,34\n",
    "\\newline\n",
    "F \\in C.R. \\quad \\Rightarrow \\quad \\text{We reject } H_0 \\quad \\Rightarrow \\quad \\text{There is an evidence of heteroscedasticity}\n",
    "$"
   ]
  },
  {
   "cell_type": "markdown",
   "id": "6cd84dde",
   "metadata": {},
   "source": [
    "### 1.3\n",
    "#### □ Student’s friend advised her to use White test instead. She runs test for regression (1) obtaining for the auxiliary equation of the White test (with cross terms) the value of $R^2=0.0317$. Help the student to complete the test briefly explaining her the logic of this test, indicating distribution, degrees of freedom, critical values and final conclusion.\n",
    "\n",
    "##### White Test:\n",
    "$\n",
    "H_0: {\\sigma_1}^2 = {\\sigma_2}^2 = {\\sigma_3}^2 = \\dots\n",
    "\\newline\n",
    "H_1: \\exists {\\sigma_i}^2 \\neq {\\sigma_k}^2\n",
    "\\newline\n",
    "F = \\frac{^{R^2}/_{k}}{^{(1 - R^2)}/_{(n-k-1)}} = \\frac{^{0.0317}/_{4}}{^{(1-0.0317)}/_{(546-4-1)}} = 4.428\n",
    "\\newline\n",
    "F_{crit} = F_{0,95}(4; 541)=2.39\n",
    "\\newline\n",
    "F \\in C.R. \\quad \\Rightarrow \\quad \\text{We reject } H_0 \\quad \\Rightarrow \\quad \\text{There is an evidence of heteroscedasticity}\n",
    "$"
   ]
  },
  {
   "cell_type": "markdown",
   "id": "3f6b4c94",
   "metadata": {},
   "source": [
    "## №2 \n",
    "A researcher obtains data on household annual expenditure on books, B, and annual household income, Y, for 100 UK households in 2015. He hypothesizes that B is related to Y and the average cognitive ability of adults in the household, IQ, by the relationship (where u satisfies the Gauss–Markov conditions)\n",
    "\\begin{equation}\n",
    "logB= \\beta_1 + \\beta_2logY + \\beta_3 log IQ + u \\qquad \\qquad (A)\n",
    "\\end{equation}\n",
    "He also considers the possibility that $logB$ may be determined by $logY$ alone:\n",
    "\\begin{equation}\n",
    "logB = \\beta_1 + \\beta_2logY + u (A) \\qquad \\qquad (B)\n",
    "\\end{equation}\n",
    "He does not have data on IQ and decides to use average years of schooling of the adults in the household, S, as a proxy in specification (A). It may be assumed that Y and S are both nonstochastic. In the sample the correlation between $logY$ and $logS$ is 0.86. He performs the following regressions: (1) $logB$ on both $logY$ and $logS$, and (2) $logB$ on $logY$ only, with the results shown in the table (standard errors in parentheses):\n",
    "\\begin{equation}\n",
    "\\hat{logB}= \\underset{(2.28)}{-6.89} + \\underset{(0.69)}{1.10}logY + \\underset{(0.35)}{0.59}S \\qquad R^2=0.29 \\qquad  (1)\n",
    "\\newline\n",
    "\\hat{logB}= \\underset{(0.89)}{-3.37} + \\underset{(0.35)}{2.10}logY  \\qquad R^2=0.27 \\qquad (2)\n",
    "\\end{equation}"
   ]
  },
  {
   "cell_type": "markdown",
   "id": "d96348d8",
   "metadata": {},
   "source": [
    "### 2.1\n",
    "#### □ Assuming that (A) is the correct specification, explain, with a mathematical proof, whether you would expect the coefficient of $logY$ to be greater in regression (2).\n",
    "\n",
    "\\begin{equation}\n",
    "E(\\hat{\\beta_{Y}}) = \\beta_{\\log(Y)} + \\beta_{\\log(S)} \\frac{Cov(\\log(Y), \\log(S))}{Var(\\log(Y))} = \\beta_{\\log(Y)} + \\beta_{\\log(S)} \\frac{Corr(\\log(Y), \\log(S))}{Var(\\log(Y))\\sigma_{\\log(Y)}\\sigma_{\\log(S)}}\n",
    "\\newline\n",
    "Corr(\\log(Y), \\log(S)), Var(\\log(Y)), \\sigma_{\\log(Y)}, \\sigma_{\\log(S)} > 0 \\Rightarrow \\beta_{\\log(S)}  \\frac{Corr(\\log(Y), \\log(S))}{Var(\\log(Y))\\sigma_{\\log(Y)}\\sigma_{\\log(S)}} > 0 \\Rightarrow E(\\hat{\\beta_{\\log(Y)}}) > \\beta_{\\log(Y)}\n",
    "\\end{equation}\n",
    "\n",
    "Using $logS$ as a proxy for $log(IQ)$ is extremely helpful, as IQ data is not possesed, proxy allows to investigate possible reltion between IQ an B, it also allows us to avoid the bias of the $logY$ parameter estimate. "
   ]
  },
  {
   "cell_type": "markdown",
   "id": "9a45b765",
   "metadata": {},
   "source": [
    "### 2.2\n",
    "#### □ Explain whether the low value of $R^2$ in regression (1) implies that $logS$ is not a good proxy.\n",
    "#### □ Assuming that (A) is the correct specification, provide an explanation of why the coefficients of $logY$ and in regression (1) are not significantly different from zero.\n",
    "#### □ Assuming that (B) is the correct specification, explain whether you would expect the coefficient of $logY$ to be lower in regression (1).\n",
    "#### □ Assuming that (B) is the correct specification, explain whether the standard errors in regression (1) are valid estimates."
   ]
  },
  {
   "cell_type": "markdown",
   "id": "eb9e2e3f",
   "metadata": {},
   "source": [
    "## №3"
   ]
  },
  {
   "cell_type": "code",
   "execution_count": 29,
   "id": "d7018447",
   "metadata": {},
   "outputs": [
    {
     "data": {
      "text/html": [
       "<div>\n",
       "<style scoped>\n",
       "    .dataframe tbody tr th:only-of-type {\n",
       "        vertical-align: middle;\n",
       "    }\n",
       "\n",
       "    .dataframe tbody tr th {\n",
       "        vertical-align: top;\n",
       "    }\n",
       "\n",
       "    .dataframe thead th {\n",
       "        text-align: right;\n",
       "    }\n",
       "</style>\n",
       "<table border=\"1\" class=\"dataframe\">\n",
       "  <thead>\n",
       "    <tr style=\"text-align: right;\">\n",
       "      <th></th>\n",
       "      <th>asvabc</th>\n",
       "      <th>earnings</th>\n",
       "      <th>s</th>\n",
       "      <th>sf</th>\n",
       "      <th>sm</th>\n",
       "    </tr>\n",
       "  </thead>\n",
       "  <tbody>\n",
       "    <tr>\n",
       "      <th>0</th>\n",
       "      <td>46</td>\n",
       "      <td>13.550002</td>\n",
       "      <td>12</td>\n",
       "      <td>12</td>\n",
       "      <td>12</td>\n",
       "    </tr>\n",
       "    <tr>\n",
       "      <th>1</th>\n",
       "      <td>61</td>\n",
       "      <td>10.000000</td>\n",
       "      <td>12</td>\n",
       "      <td>20</td>\n",
       "      <td>14</td>\n",
       "    </tr>\n",
       "    <tr>\n",
       "      <th>2</th>\n",
       "      <td>49</td>\n",
       "      <td>19.389999</td>\n",
       "      <td>12</td>\n",
       "      <td>9</td>\n",
       "      <td>12</td>\n",
       "    </tr>\n",
       "    <tr>\n",
       "      <th>3</th>\n",
       "      <td>51</td>\n",
       "      <td>13.460001</td>\n",
       "      <td>17</td>\n",
       "      <td>16</td>\n",
       "      <td>16</td>\n",
       "    </tr>\n",
       "    <tr>\n",
       "      <th>4</th>\n",
       "      <td>50</td>\n",
       "      <td>7.790001</td>\n",
       "      <td>14</td>\n",
       "      <td>16</td>\n",
       "      <td>14</td>\n",
       "    </tr>\n",
       "  </tbody>\n",
       "</table>\n",
       "</div>"
      ],
      "text/plain": [
       "   asvabc   earnings   s  sf  sm\n",
       "0      46  13.550002  12  12  12\n",
       "1      61  10.000000  12  20  14\n",
       "2      49  19.389999  12   9  12\n",
       "3      51  13.460001  17  16  16\n",
       "4      50   7.790001  14  16  14"
      ]
     },
     "execution_count": 29,
     "metadata": {},
     "output_type": "execute_result"
    }
   ],
   "source": [
    "import numpy as np\n",
    "import pandas as pd\n",
    "import matplotlib.pyplot as plt\n",
    "import seaborn as sns\n",
    "import statsmodels.api as sm\n",
    "from sklearn.model_selection import train_test_split as tts\n",
    "from sklearn.linear_model import LinearRegression\n",
    "import warnings\n",
    "warnings.simplefilter(action='ignore', category=FutureWarning)\n",
    "\n",
    "df = pd.read_excel('ha04_data01.xls')\n",
    "df.head()"
   ]
  },
  {
   "cell_type": "code",
   "execution_count": 34,
   "id": "37f16d51",
   "metadata": {},
   "outputs": [
    {
     "name": "stdout",
     "output_type": "stream",
     "text": [
      "                            OLS Regression Results                            \n",
      "==============================================================================\n",
      "Dep. Variable:               earnings   R-squared:                       0.186\n",
      "Model:                            OLS   Adj. R-squared:                  0.183\n",
      "Method:                 Least Squares   F-statistic:                     64.75\n",
      "Date:                Tue, 13 Dec 2022   Prob (F-statistic):           4.72e-26\n",
      "Time:                        21:37:04   Log-Likelihood:                -2045.0\n",
      "No. Observations:                 570   AIC:                             4096.\n",
      "Df Residuals:                     567   BIC:                             4109.\n",
      "Df Model:                           2                                         \n",
      "Covariance Type:            nonrobust                                         \n",
      "==============================================================================\n",
      "                 coef    std err          t      P>|t|      [0.025      0.975]\n",
      "------------------------------------------------------------------------------\n",
      "const        -13.3802      2.435     -5.495      0.000     -18.163      -8.598\n",
      "asvabc         0.1833      0.049      3.741      0.000       0.087       0.280\n",
      "s              1.3076      0.184      7.100      0.000       0.946       1.669\n",
      "==============================================================================\n",
      "Omnibus:                      484.831   Durbin-Watson:                   2.077\n",
      "Prob(Omnibus):                  0.000   Jarque-Bera (JB):            12738.426\n",
      "Skew:                           3.651   Prob(JB):                         0.00\n",
      "Kurtosis:                      24.978   Cond. No.                         351.\n",
      "==============================================================================\n",
      "\n",
      "Notes:\n",
      "[1] Standard Errors assume that the covariance matrix of the errors is correctly specified.\n"
     ]
    },
    {
     "data": {
      "text/plain": [
       "[<matplotlib.lines.Line2D at 0x26801114850>,\n",
       " <matplotlib.lines.Line2D at 0x268011149a0>]"
      ]
     },
     "execution_count": 34,
     "metadata": {},
     "output_type": "execute_result"
    },
    {
     "data": {
      "image/png": "[encoded data removed]",
      "text/plain": [
       "<Figure size 432x288 with 1 Axes>"
      ]
     },
     "metadata": {
      "needs_background": "light"
     },
     "output_type": "display_data"
    }
   ],
   "source": [
    "EAS = sm.OLS(df.earnings, sm.add_constant(df[['asvabc', 's']])).fit()\n",
    "print(EAS.summary())\n",
    "plt.plot(df[['asvabc', 's']], df.earnings, 'r.')"
   ]
  },
  {
   "cell_type": "code",
   "execution_count": 31,
   "id": "23352a76",
   "metadata": {},
   "outputs": [
    {
     "name": "stdout",
     "output_type": "stream",
     "text": [
      "                            OLS Regression Results                            \n",
      "==============================================================================\n",
      "Dep. Variable:               earnings   R-squared:                       0.114\n",
      "Model:                            OLS   Adj. R-squared:                  0.112\n",
      "Method:                 Least Squares   F-statistic:                     72.75\n",
      "Date:                Tue, 13 Dec 2022   Prob (F-statistic):           1.34e-16\n",
      "Time:                        21:23:04   Log-Likelihood:                -2069.2\n",
      "No. Observations:                 570   AIC:                             4142.\n",
      "Df Residuals:                     568   BIC:                             4151.\n",
      "Df Model:                           1                                         \n",
      "Covariance Type:            nonrobust                                         \n",
      "==============================================================================\n",
      "                 coef    std err          t      P>|t|      [0.025      0.975]\n",
      "------------------------------------------------------------------------------\n",
      "const         -4.8777      2.210     -2.207      0.028      -9.219      -0.536\n",
      "asvabc         0.3687      0.043      8.530      0.000       0.284       0.454\n",
      "==============================================================================\n",
      "Omnibus:                      498.776   Durbin-Watson:                   2.072\n",
      "Prob(Omnibus):                  0.000   Jarque-Bera (JB):            14546.365\n",
      "Skew:                           3.772   Prob(JB):                         0.00\n",
      "Kurtosis:                      26.570   Cond. No.                         295.\n",
      "==============================================================================\n",
      "\n",
      "Notes:\n",
      "[1] Standard Errors assume that the covariance matrix of the errors is correctly specified.\n"
     ]
    },
    {
     "data": {
      "text/plain": [
       "[<matplotlib.lines.Line2D at 0x2687ff6a400>]"
      ]
     },
     "execution_count": 31,
     "metadata": {},
     "output_type": "execute_result"
    },
    {
     "data": {
      "image/png": "[encoded data removed]",
      "text/plain": [
       "<Figure size 432x288 with 1 Axes>"
      ]
     },
     "metadata": {
      "needs_background": "light"
     },
     "output_type": "display_data"
    }
   ],
   "source": [
    "EA = sm.OLS(df.earnings, sm.add_constant(df[['asvabc']])).fit()\n",
    "print(EA.summary())\n",
    "plt.plot(df['asvabc'], df.earnings, 'b.')"
   ]
  },
  {
   "cell_type": "code",
   "execution_count": 32,
   "id": "b8cb2b26",
   "metadata": {
    "scrolled": false
   },
   "outputs": [
    {
     "name": "stdout",
     "output_type": "stream",
     "text": [
      "                            OLS Regression Results                            \n",
      "==============================================================================\n",
      "Dep. Variable:               earnings   R-squared:                       0.166\n",
      "Model:                            OLS   Adj. R-squared:                  0.164\n",
      "Method:                 Least Squares   F-statistic:                     112.9\n",
      "Date:                Tue, 13 Dec 2022   Prob (F-statistic):           3.53e-24\n",
      "Time:                        21:23:05   Log-Likelihood:                -2051.9\n",
      "No. Observations:                 570   AIC:                             4108.\n",
      "Df Residuals:                     568   BIC:                             4117.\n",
      "Df Model:                           1                                         \n",
      "Covariance Type:            nonrobust                                         \n",
      "==============================================================================\n",
      "                 coef    std err          t      P>|t|      [0.025      0.975]\n",
      "------------------------------------------------------------------------------\n",
      "const         -9.1580      2.182     -4.197      0.000     -13.444      -4.872\n",
      "s              1.6748      0.158     10.626      0.000       1.365       1.984\n",
      "==============================================================================\n",
      "Omnibus:                      478.755   Durbin-Watson:                   2.068\n",
      "Prob(Omnibus):                  0.000   Jarque-Bera (JB):            11900.182\n",
      "Skew:                           3.604   Prob(JB):                         0.00\n",
      "Kurtosis:                      24.192   Cond. No.                         81.7\n",
      "==============================================================================\n",
      "\n",
      "Notes:\n",
      "[1] Standard Errors assume that the covariance matrix of the errors is correctly specified.\n"
     ]
    },
    {
     "data": {
      "text/plain": [
       "[<matplotlib.lines.Line2D at 0x2680102bbe0>]"
      ]
     },
     "execution_count": 32,
     "metadata": {},
     "output_type": "execute_result"
    },
    {
     "data": {
      "image/png": "[encoded data removed]",
      "text/plain": [
       "<Figure size 432x288 with 1 Axes>"
      ]
     },
     "metadata": {
      "needs_background": "light"
     },
     "output_type": "display_data"
    }
   ],
   "source": [
    "ES = sm.OLS(df.earnings, sm.add_constant(df['s'])).fit()\n",
    "print(ES.summary())\n",
    "plt.plot(df['s'], df.earnings, 'g.')"
   ]
  },
  {
   "cell_type": "markdown",
   "id": "db8192ee",
   "metadata": {},
   "source": [
    "#### □ Compare the results of all three regressions. Assuming Regression (1) corresponds to the correct specification explain the difference between regressions, paying attention to comparing regression coefficients and various characteristics of regression quality. The mathematical justification for your conclusions is not expected here.\n"
   ]
  },
  {
   "cell_type": "code",
   "execution_count": null,
   "id": "01ebc429",
   "metadata": {},
   "outputs": [],
   "source": []
  }
 ],
 "metadata": {
  "kernelspec": {
   "display_name": "Python 3 (ipykernel)",
   "language": "python",
   "name": "python3"
  },
  "language_info": {
   "codemirror_mode": {
    "name": "ipython",
    "version": 3
   },
   "file_extension": ".py",
   "mimetype": "text/x-python",
   "name": "python",
   "nbconvert_exporter": "python",
   "pygments_lexer": "ipython3",
   "version": "3.9.7"
  }
 },
 "nbformat": 4,
 "nbformat_minor": 5
}

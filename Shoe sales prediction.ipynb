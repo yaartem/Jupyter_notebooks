{
 "cells": [
  {
   "cell_type": "code",
   "execution_count": 1,
   "id": "4003f1c7",
   "metadata": {},
   "outputs": [],
   "source": [
    "#!pip install openpyxl --upgrade --pre"
   ]
  },
  {
   "cell_type": "code",
   "execution_count": 2,
   "id": "e08ce482",
   "metadata": {},
   "outputs": [],
   "source": [
    "import warnings\n",
    "warnings.filterwarnings(\"ignore\")"
   ]
  },
  {
   "cell_type": "code",
   "execution_count": 3,
   "id": "bf56500d",
   "metadata": {},
   "outputs": [],
   "source": [
    "import pandas as pd\n",
    "from sklearn.linear_model import LinearRegression\n",
    "from sklearn.model_selection import train_test_split\n",
    "from sklearn.tree import DecisionTreeRegressor\n",
    "from sklearn.model_selection import cross_val_score\n",
    "from sklearn.metrics import make_scorer, mean_squared_error, r2_score, accuracy_score\n",
    "import numpy as np\n",
    "import matplotlib.pyplot as plt\n",
    "import seaborn as sns\n",
    "from sklearn import tree"
   ]
  },
  {
   "cell_type": "code",
   "execution_count": 4,
   "id": "8ae999e2",
   "metadata": {},
   "outputs": [],
   "source": [
    "df = pd.read_excel('Product_Sales_Dataset.xlsx')"
   ]
  },
  {
   "cell_type": "markdown",
   "id": "55db1527",
   "metadata": {},
   "source": [
    "# EDA"
   ]
  },
  {
   "cell_type": "code",
   "execution_count": 5,
   "id": "f3b74a35",
   "metadata": {},
   "outputs": [
    {
     "data": {
      "text/html": [
       "<div>\n",
       "<style scoped>\n",
       "    .dataframe tbody tr th:only-of-type {\n",
       "        vertical-align: middle;\n",
       "    }\n",
       "\n",
       "    .dataframe tbody tr th {\n",
       "        vertical-align: top;\n",
       "    }\n",
       "\n",
       "    .dataframe thead th {\n",
       "        text-align: right;\n",
       "    }\n",
       "</style>\n",
       "<table border=\"1\" class=\"dataframe\">\n",
       "  <thead>\n",
       "    <tr style=\"text-align: right;\">\n",
       "      <th></th>\n",
       "      <th>Year</th>\n",
       "      <th>Foot Number</th>\n",
       "      <th>Color</th>\n",
       "      <th>Price</th>\n",
       "      <th>Design</th>\n",
       "      <th>Quality</th>\n",
       "      <th>Sales</th>\n",
       "      <th>Product_id</th>\n",
       "    </tr>\n",
       "  </thead>\n",
       "  <tbody>\n",
       "    <tr>\n",
       "      <th>0</th>\n",
       "      <td>2019</td>\n",
       "      <td>36</td>\n",
       "      <td>black</td>\n",
       "      <td>499.99</td>\n",
       "      <td>modern</td>\n",
       "      <td>luxury</td>\n",
       "      <td>80</td>\n",
       "      <td>BWZLT</td>\n",
       "    </tr>\n",
       "    <tr>\n",
       "      <th>1</th>\n",
       "      <td>2019</td>\n",
       "      <td>36</td>\n",
       "      <td>grey</td>\n",
       "      <td>499.99</td>\n",
       "      <td>modern</td>\n",
       "      <td>luxury</td>\n",
       "      <td>85</td>\n",
       "      <td>BWZLT</td>\n",
       "    </tr>\n",
       "    <tr>\n",
       "      <th>2</th>\n",
       "      <td>2019</td>\n",
       "      <td>36</td>\n",
       "      <td>white</td>\n",
       "      <td>499.99</td>\n",
       "      <td>modern</td>\n",
       "      <td>luxury</td>\n",
       "      <td>87</td>\n",
       "      <td>BWZLT</td>\n",
       "    </tr>\n",
       "    <tr>\n",
       "      <th>3</th>\n",
       "      <td>2019</td>\n",
       "      <td>36</td>\n",
       "      <td>colorful</td>\n",
       "      <td>499.99</td>\n",
       "      <td>modern</td>\n",
       "      <td>luxury</td>\n",
       "      <td>89</td>\n",
       "      <td>BWZLT</td>\n",
       "    </tr>\n",
       "    <tr>\n",
       "      <th>4</th>\n",
       "      <td>2019</td>\n",
       "      <td>36</td>\n",
       "      <td>gold</td>\n",
       "      <td>499.99</td>\n",
       "      <td>modern</td>\n",
       "      <td>luxury</td>\n",
       "      <td>57</td>\n",
       "      <td>BWZLT</td>\n",
       "    </tr>\n",
       "  </tbody>\n",
       "</table>\n",
       "</div>"
      ],
      "text/plain": [
       "   Year  Foot Number     Color   Price  Design Quality  Sales Product_id\n",
       "0  2019           36     black  499.99  modern  luxury     80      BWZLT\n",
       "1  2019           36      grey  499.99  modern  luxury     85      BWZLT\n",
       "2  2019           36     white  499.99  modern  luxury     87      BWZLT\n",
       "3  2019           36  colorful  499.99  modern  luxury     89      BWZLT\n",
       "4  2019           36      gold  499.99  modern  luxury     57      BWZLT"
      ]
     },
     "execution_count": 5,
     "metadata": {},
     "output_type": "execute_result"
    }
   ],
   "source": [
    "df.head()"
   ]
  },
  {
   "cell_type": "code",
   "execution_count": 6,
   "id": "82dfbb70",
   "metadata": {},
   "outputs": [
    {
     "name": "stdout",
     "output_type": "stream",
     "text": [
      "<class 'pandas.core.frame.DataFrame'>\n",
      "RangeIndex: 3080 entries, 0 to 3079\n",
      "Data columns (total 8 columns):\n",
      " #   Column       Non-Null Count  Dtype  \n",
      "---  ------       --------------  -----  \n",
      " 0   Year         3080 non-null   int64  \n",
      " 1   Foot Number  3080 non-null   int64  \n",
      " 2   Color        3080 non-null   object \n",
      " 3   Price        3080 non-null   float64\n",
      " 4   Design       3080 non-null   object \n",
      " 5   Quality      3080 non-null   object \n",
      " 6   Sales        3080 non-null   int64  \n",
      " 7   Product_id   3080 non-null   object \n",
      "dtypes: float64(1), int64(3), object(4)\n",
      "memory usage: 192.6+ KB\n"
     ]
    }
   ],
   "source": [
    "df.info()"
   ]
  },
  {
   "cell_type": "code",
   "execution_count": 7,
   "id": "cec912d3",
   "metadata": {},
   "outputs": [
    {
     "name": "stdout",
     "output_type": "stream",
     "text": [
      "<class 'pandas.core.frame.DataFrame'>\n",
      "Index: 380 entries, 0 to 2829\n",
      "Data columns (total 8 columns):\n",
      " #   Column       Non-Null Count  Dtype  \n",
      "---  ------       --------------  -----  \n",
      " 0   Year         380 non-null    int64  \n",
      " 1   Foot Number  380 non-null    int64  \n",
      " 2   Color        380 non-null    object \n",
      " 3   Price        380 non-null    float64\n",
      " 4   Design       380 non-null    object \n",
      " 5   Quality      380 non-null    object \n",
      " 6   Sales        380 non-null    int64  \n",
      " 7   Product_id   380 non-null    object \n",
      "dtypes: float64(1), int64(3), object(4)\n",
      "memory usage: 26.7+ KB\n"
     ]
    }
   ],
   "source": [
    "df[df['Year'] == 2019].info()"
   ]
  },
  {
   "cell_type": "code",
   "execution_count": 8,
   "id": "c2b39c83",
   "metadata": {},
   "outputs": [],
   "source": [
    "df = df[df['Year'] != 2019] #we drop 2019, as we make an analysis on last five years"
   ]
  },
  {
   "cell_type": "code",
   "execution_count": 9,
   "id": "08af99af",
   "metadata": {},
   "outputs": [
    {
     "data": {
      "text/html": [
       "<div>\n",
       "<style scoped>\n",
       "    .dataframe tbody tr th:only-of-type {\n",
       "        vertical-align: middle;\n",
       "    }\n",
       "\n",
       "    .dataframe tbody tr th {\n",
       "        vertical-align: top;\n",
       "    }\n",
       "\n",
       "    .dataframe thead th {\n",
       "        text-align: right;\n",
       "    }\n",
       "</style>\n",
       "<table border=\"1\" class=\"dataframe\">\n",
       "  <thead>\n",
       "    <tr style=\"text-align: right;\">\n",
       "      <th></th>\n",
       "      <th>Year</th>\n",
       "      <th>Foot Number</th>\n",
       "      <th>Price</th>\n",
       "      <th>Sales</th>\n",
       "    </tr>\n",
       "  </thead>\n",
       "  <tbody>\n",
       "    <tr>\n",
       "      <th>count</th>\n",
       "      <td>2700.000000</td>\n",
       "      <td>2700.000000</td>\n",
       "      <td>2700.000000</td>\n",
       "      <td>2700.000000</td>\n",
       "    </tr>\n",
       "    <tr>\n",
       "      <th>mean</th>\n",
       "      <td>2022.122222</td>\n",
       "      <td>40.500000</td>\n",
       "      <td>180.511630</td>\n",
       "      <td>122.453704</td>\n",
       "    </tr>\n",
       "    <tr>\n",
       "      <th>std</th>\n",
       "      <td>1.359673</td>\n",
       "      <td>2.872813</td>\n",
       "      <td>152.626217</td>\n",
       "      <td>23.568204</td>\n",
       "    </tr>\n",
       "    <tr>\n",
       "      <th>min</th>\n",
       "      <td>2020.000000</td>\n",
       "      <td>36.000000</td>\n",
       "      <td>25.950000</td>\n",
       "      <td>41.000000</td>\n",
       "    </tr>\n",
       "    <tr>\n",
       "      <th>25%</th>\n",
       "      <td>2021.000000</td>\n",
       "      <td>38.000000</td>\n",
       "      <td>44.950000</td>\n",
       "      <td>107.000000</td>\n",
       "    </tr>\n",
       "    <tr>\n",
       "      <th>50%</th>\n",
       "      <td>2022.000000</td>\n",
       "      <td>40.500000</td>\n",
       "      <td>129.950000</td>\n",
       "      <td>124.000000</td>\n",
       "    </tr>\n",
       "    <tr>\n",
       "      <th>75%</th>\n",
       "      <td>2023.000000</td>\n",
       "      <td>43.000000</td>\n",
       "      <td>263.990000</td>\n",
       "      <td>141.000000</td>\n",
       "    </tr>\n",
       "    <tr>\n",
       "      <th>max</th>\n",
       "      <td>2024.000000</td>\n",
       "      <td>45.000000</td>\n",
       "      <td>493.990000</td>\n",
       "      <td>174.000000</td>\n",
       "    </tr>\n",
       "  </tbody>\n",
       "</table>\n",
       "</div>"
      ],
      "text/plain": [
       "              Year  Foot Number        Price        Sales\n",
       "count  2700.000000  2700.000000  2700.000000  2700.000000\n",
       "mean   2022.122222    40.500000   180.511630   122.453704\n",
       "std       1.359673     2.872813   152.626217    23.568204\n",
       "min    2020.000000    36.000000    25.950000    41.000000\n",
       "25%    2021.000000    38.000000    44.950000   107.000000\n",
       "50%    2022.000000    40.500000   129.950000   124.000000\n",
       "75%    2023.000000    43.000000   263.990000   141.000000\n",
       "max    2024.000000    45.000000   493.990000   174.000000"
      ]
     },
     "execution_count": 9,
     "metadata": {},
     "output_type": "execute_result"
    }
   ],
   "source": [
    "df.describe()"
   ]
  },
  {
   "cell_type": "code",
   "execution_count": 10,
   "id": "0daa653f",
   "metadata": {},
   "outputs": [
    {
     "data": {
      "text/plain": [
       "Year             5\n",
       "Foot Number     10\n",
       "Color            5\n",
       "Price           81\n",
       "Design           3\n",
       "Quality          4\n",
       "Sales          124\n",
       "Product_id      89\n",
       "dtype: int64"
      ]
     },
     "execution_count": 10,
     "metadata": {},
     "output_type": "execute_result"
    }
   ],
   "source": [
    "df.nunique()"
   ]
  },
  {
   "cell_type": "code",
   "execution_count": 11,
   "id": "eac23d4f",
   "metadata": {},
   "outputs": [],
   "source": [
    "df = df.drop(columns=[\"Product_id\"])"
   ]
  },
  {
   "cell_type": "code",
   "execution_count": 12,
   "id": "dcb627e3",
   "metadata": {},
   "outputs": [],
   "source": [
    "categorical_columns = [\"Color\", \"Design\", \"Quality\"]"
   ]
  },
  {
   "cell_type": "code",
   "execution_count": 13,
   "id": "0aaa7252",
   "metadata": {},
   "outputs": [],
   "source": [
    "df_dummies = pd.get_dummies(df, columns=categorical_columns, drop_first=True)"
   ]
  },
  {
   "cell_type": "code",
   "execution_count": 14,
   "id": "e942f7a1",
   "metadata": {
    "scrolled": false
   },
   "outputs": [
    {
     "data": {
      "image/png": "[encoded data removed]",
      "text/plain": [
       "<Figure size 720x576 with 2 Axes>"
      ]
     },
     "metadata": {
      "needs_background": "light"
     },
     "output_type": "display_data"
    }
   ],
   "source": [
    "plt.figure(figsize=(10, 8))\n",
    "sns.heatmap(df_dummies.corr()['Sales'].to_frame(), annot=True, fmt=\".2f\", cmap=\"summer\", cbar=True, linewidths=0.5)\n",
    "plt.title(\"Correlation Matrix of Features with Sales\")\n",
    "plt.show()"
   ]
  },
  {
   "cell_type": "code",
   "execution_count": 15,
   "id": "75d43f3e",
   "metadata": {},
   "outputs": [
    {
     "data": {
      "image/png": "[encoded data removed]",
      "text/plain": [
       "<Figure size 1080x1440 with 7 Axes>"
      ]
     },
     "metadata": {
      "needs_background": "light"
     },
     "output_type": "display_data"
    }
   ],
   "source": [
    "columns_to_plot = df.columns\n",
    "\n",
    "plt.figure(figsize=(15, 20))\n",
    "for i, column in enumerate(columns_to_plot, 1):\n",
    "    plt.subplot(len(columns_to_plot), 1, i)\n",
    "    sns.histplot(df[column], bins=20, color=\"blue\")\n",
    "    plt.title(f\"Distribution of {column}\")\n",
    "    plt.xlabel(column)\n",
    "    plt.ylabel(\"Frequency\")\n",
    "    plt.tight_layout()\n",
    "\n",
    "plt.show()"
   ]
  },
  {
   "cell_type": "code",
   "execution_count": 16,
   "id": "424c3bb2",
   "metadata": {
    "scrolled": false
   },
   "outputs": [
    {
     "data": {
      "image/png": "[encoded data removed]",
      "text/plain": [
       "<Figure size 864x432 with 2 Axes>"
      ]
     },
     "metadata": {
      "needs_background": "light"
     },
     "output_type": "display_data"
    }
   ],
   "source": [
    "yearly_correlations = df_dummies.groupby(\"Year\").corr()[\"Sales\"].drop(columns=[\"Sales\"]).unstack()\n",
    "\n",
    "plt.figure(figsize=(12, 6))\n",
    "sns.heatmap(yearly_correlations, annot=True, cmap=\"summer\", fmt=\".2f\", linewidths=0.5)\n",
    "plt.title(\"Yearly Correlations with Sales\")\n",
    "plt.xlabel(\"Features\")\n",
    "plt.ylabel(\"Year\")\n",
    "plt.show()"
   ]
  },
  {
   "cell_type": "markdown",
   "id": "f6d9e9a8",
   "metadata": {},
   "source": [
    "# Models"
   ]
  },
  {
   "cell_type": "code",
   "execution_count": 17,
   "id": "6b3d694c",
   "metadata": {},
   "outputs": [],
   "source": [
    "X = df_dummies.drop(columns=[\"Sales\"])\n",
    "y = df_dummies[\"Sales\"]\n",
    "\n",
    "#X_train, X_test, y_train, y_test = train_test_split(X, y, test_size=0.2, random_state=1)"
   ]
  },
  {
   "cell_type": "code",
   "execution_count": 18,
   "id": "dbabe545",
   "metadata": {},
   "outputs": [],
   "source": [
    "#X_train.head()"
   ]
  },
  {
   "cell_type": "code",
   "execution_count": 19,
   "id": "6d38117f",
   "metadata": {},
   "outputs": [],
   "source": [
    "#y_train.head()"
   ]
  },
  {
   "cell_type": "markdown",
   "id": "d4d259a9",
   "metadata": {},
   "source": [
    "### Decision Tree"
   ]
  },
  {
   "cell_type": "code",
   "execution_count": 20,
   "id": "8094639a",
   "metadata": {},
   "outputs": [
    {
     "data": {
      "text/plain": [
       "{'R2': (0.8995786315414624, 0.014864751799123098),\n",
       " 'RMSE': (7.364300184973179, 0.3702469251783169)}"
      ]
     },
     "execution_count": 20,
     "metadata": {},
     "output_type": "execute_result"
    }
   ],
   "source": [
    "dt_regressor = DecisionTreeRegressor(random_state=1)\n",
    "\n",
    "scoring_metrics = {\n",
    "    \"R2\": make_scorer(r2_score),\n",
    "    \"RMSE\": make_scorer(lambda y_true, y_pred: mean_squared_error(y_true, y_pred, squared=False))\n",
    "}\n",
    "\n",
    "cv_results = {\n",
    "    metric: cross_val_score(dt_regressor, X, y, scoring=scorer, cv=5)\n",
    "    for metric, scorer in scoring_metrics.items()\n",
    "}\n",
    "\n",
    "cv_summary = {metric: (scores.mean(), scores.std()) for metric, scores in cv_results.items()}\n",
    "cv_summary"
   ]
  },
  {
   "cell_type": "code",
   "execution_count": 21,
   "id": "a5124431",
   "metadata": {},
   "outputs": [
    {
     "data": {
      "text/html": [
       "<style>#sk-container-id-1 {color: black;background-color: white;}#sk-container-id-1 pre{padding: 0;}#sk-container-id-1 div.sk-toggleable {background-color: white;}#sk-container-id-1 label.sk-toggleable__label {cursor: pointer;display: block;width: 100%;margin-bottom: 0;padding: 0.3em;box-sizing: border-box;text-align: center;}#sk-container-id-1 label.sk-toggleable__label-arrow:before {content: \"▸\";float: left;margin-right: 0.25em;color: #696969;}#sk-container-id-1 label.sk-toggleable__label-arrow:hover:before {color: black;}#sk-container-id-1 div.sk-estimator:hover label.sk-toggleable__label-arrow:before {color: black;}#sk-container-id-1 div.sk-toggleable__content {max-height: 0;max-width: 0;overflow: hidden;text-align: left;background-color: #f0f8ff;}#sk-container-id-1 div.sk-toggleable__content pre {margin: 0.2em;color: black;border-radius: 0.25em;background-color: #f0f8ff;}#sk-container-id-1 input.sk-toggleable__control:checked~div.sk-toggleable__content {max-height: 200px;max-width: 100%;overflow: auto;}#sk-container-id-1 input.sk-toggleable__control:checked~label.sk-toggleable__label-arrow:before {content: \"▾\";}#sk-container-id-1 div.sk-estimator input.sk-toggleable__control:checked~label.sk-toggleable__label {background-color: #d4ebff;}#sk-container-id-1 div.sk-label input.sk-toggleable__control:checked~label.sk-toggleable__label {background-color: #d4ebff;}#sk-container-id-1 input.sk-hidden--visually {border: 0;clip: rect(1px 1px 1px 1px);clip: rect(1px, 1px, 1px, 1px);height: 1px;margin: -1px;overflow: hidden;padding: 0;position: absolute;width: 1px;}#sk-container-id-1 div.sk-estimator {font-family: monospace;background-color: #f0f8ff;border: 1px dotted black;border-radius: 0.25em;box-sizing: border-box;margin-bottom: 0.5em;}#sk-container-id-1 div.sk-estimator:hover {background-color: #d4ebff;}#sk-container-id-1 div.sk-parallel-item::after {content: \"\";width: 100%;border-bottom: 1px solid gray;flex-grow: 1;}#sk-container-id-1 div.sk-label:hover label.sk-toggleable__label {background-color: #d4ebff;}#sk-container-id-1 div.sk-serial::before {content: \"\";position: absolute;border-left: 1px solid gray;box-sizing: border-box;top: 0;bottom: 0;left: 50%;z-index: 0;}#sk-container-id-1 div.sk-serial {display: flex;flex-direction: column;align-items: center;background-color: white;padding-right: 0.2em;padding-left: 0.2em;position: relative;}#sk-container-id-1 div.sk-item {position: relative;z-index: 1;}#sk-container-id-1 div.sk-parallel {display: flex;align-items: stretch;justify-content: center;background-color: white;position: relative;}#sk-container-id-1 div.sk-item::before, #sk-container-id-1 div.sk-parallel-item::before {content: \"\";position: absolute;border-left: 1px solid gray;box-sizing: border-box;top: 0;bottom: 0;left: 50%;z-index: -1;}#sk-container-id-1 div.sk-parallel-item {display: flex;flex-direction: column;z-index: 1;position: relative;background-color: white;}#sk-container-id-1 div.sk-parallel-item:first-child::after {align-self: flex-end;width: 50%;}#sk-container-id-1 div.sk-parallel-item:last-child::after {align-self: flex-start;width: 50%;}#sk-container-id-1 div.sk-parallel-item:only-child::after {width: 0;}#sk-container-id-1 div.sk-dashed-wrapped {border: 1px dashed gray;margin: 0 0.4em 0.5em 0.4em;box-sizing: border-box;padding-bottom: 0.4em;background-color: white;}#sk-container-id-1 div.sk-label label {font-family: monospace;font-weight: bold;display: inline-block;line-height: 1.2em;}#sk-container-id-1 div.sk-label-container {text-align: center;}#sk-container-id-1 div.sk-container {/* jupyter's `normalize.less` sets `[hidden] { display: none; }` but bootstrap.min.css set `[hidden] { display: none !important; }` so we also need the `!important` here to be able to override the default hidden behavior on the sphinx rendered scikit-learn.org. See: https://github.com/scikit-learn/scikit-learn/issues/21755 */display: inline-block !important;position: relative;}#sk-container-id-1 div.sk-text-repr-fallback {display: none;}</style><div id=\"sk-container-id-1\" class=\"sk-top-container\"><div class=\"sk-text-repr-fallback\"><pre>DecisionTreeRegressor(random_state=1)</pre><b>In a Jupyter environment, please rerun this cell to show the HTML representation or trust the notebook. <br />On GitHub, the HTML representation is unable to render, please try loading this page with nbviewer.org.</b></div><div class=\"sk-container\" hidden><div class=\"sk-item\"><div class=\"sk-estimator sk-toggleable\"><input class=\"sk-toggleable__control sk-hidden--visually\" id=\"sk-estimator-id-1\" type=\"checkbox\" checked><label for=\"sk-estimator-id-1\" class=\"sk-toggleable__label sk-toggleable__label-arrow\">DecisionTreeRegressor</label><div class=\"sk-toggleable__content\"><pre>DecisionTreeRegressor(random_state=1)</pre></div></div></div></div></div>"
      ],
      "text/plain": [
       "DecisionTreeRegressor(random_state=1)"
      ]
     },
     "execution_count": 21,
     "metadata": {},
     "output_type": "execute_result"
    }
   ],
   "source": [
    "dt_regressor.fit(X, y)"
   ]
  },
  {
   "cell_type": "markdown",
   "id": "d85aeada",
   "metadata": {},
   "source": [
    "### Linear Regression"
   ]
  },
  {
   "cell_type": "code",
   "execution_count": 22,
   "id": "95274456",
   "metadata": {},
   "outputs": [
    {
     "data": {
      "text/plain": [
       "{'R2': (0.7268701393635962, 0.02746626847837285),\n",
       " 'RMSE': (12.172237839041285, 0.19102785084780333)}"
      ]
     },
     "execution_count": 22,
     "metadata": {},
     "output_type": "execute_result"
    }
   ],
   "source": [
    "linear_regressor = LinearRegression()\n",
    "\n",
    "linear_cv_results = {\n",
    "    metric: cross_val_score(linear_regressor, X, y, scoring=scorer, cv=5)\n",
    "    for metric, scorer in scoring_metrics.items()\n",
    "}\n",
    "\n",
    "linear_cv_summary = {metric: (scores.mean(), scores.std()) for metric, scores in linear_cv_results.items()}\n",
    "linear_cv_summary"
   ]
  },
  {
   "cell_type": "code",
   "execution_count": 23,
   "id": "c9b7121e",
   "metadata": {},
   "outputs": [
    {
     "data": {
      "text/plain": [
       "(111.33309210935577,\n",
       " array([ 3.12599370e-02, -8.89315376e-01, -2.04596482e-03, -2.08464210e+01,\n",
       "        -3.86649846e+01, -3.89884245e+00, -3.59707079e+00,  4.95053370e-01,\n",
       "        -1.74019953e+00, -2.97473180e+01,  1.44251350e+01, -2.74988406e-01]))"
      ]
     },
     "execution_count": 23,
     "metadata": {},
     "output_type": "execute_result"
    }
   ],
   "source": [
    "linear_regressor.fit(X, y)\n",
    "linear_regressor.intercept_, linear_regressor.coef_"
   ]
  },
  {
   "cell_type": "code",
   "execution_count": 35,
   "id": "d7b18924",
   "metadata": {},
   "outputs": [
    {
     "data": {
      "text/html": [
       "<div>\n",
       "<style scoped>\n",
       "    .dataframe tbody tr th:only-of-type {\n",
       "        vertical-align: middle;\n",
       "    }\n",
       "\n",
       "    .dataframe tbody tr th {\n",
       "        vertical-align: top;\n",
       "    }\n",
       "\n",
       "    .dataframe thead th {\n",
       "        text-align: right;\n",
       "    }\n",
       "</style>\n",
       "<table border=\"1\" class=\"dataframe\">\n",
       "  <thead>\n",
       "    <tr style=\"text-align: right;\">\n",
       "      <th></th>\n",
       "      <th>Year</th>\n",
       "      <th>Foot Number</th>\n",
       "      <th>Price</th>\n",
       "      <th>Color_colorful</th>\n",
       "      <th>Color_gold</th>\n",
       "      <th>Color_grey</th>\n",
       "      <th>Color_white</th>\n",
       "      <th>Design_modern</th>\n",
       "      <th>Design_neutral</th>\n",
       "      <th>Quality_luxury</th>\n",
       "      <th>Quality_mid-range</th>\n",
       "      <th>Quality_premium</th>\n",
       "    </tr>\n",
       "  </thead>\n",
       "  <tbody>\n",
       "    <tr>\n",
       "      <th>50</th>\n",
       "      <td>2021</td>\n",
       "      <td>36</td>\n",
       "      <td>99.95</td>\n",
       "      <td>False</td>\n",
       "      <td>False</td>\n",
       "      <td>False</td>\n",
       "      <td>True</td>\n",
       "      <td>False</td>\n",
       "      <td>False</td>\n",
       "      <td>False</td>\n",
       "      <td>True</td>\n",
       "      <td>False</td>\n",
       "    </tr>\n",
       "    <tr>\n",
       "      <th>51</th>\n",
       "      <td>2021</td>\n",
       "      <td>36</td>\n",
       "      <td>99.95</td>\n",
       "      <td>False</td>\n",
       "      <td>True</td>\n",
       "      <td>False</td>\n",
       "      <td>False</td>\n",
       "      <td>False</td>\n",
       "      <td>False</td>\n",
       "      <td>False</td>\n",
       "      <td>True</td>\n",
       "      <td>False</td>\n",
       "    </tr>\n",
       "    <tr>\n",
       "      <th>52</th>\n",
       "      <td>2021</td>\n",
       "      <td>36</td>\n",
       "      <td>99.95</td>\n",
       "      <td>True</td>\n",
       "      <td>False</td>\n",
       "      <td>False</td>\n",
       "      <td>False</td>\n",
       "      <td>False</td>\n",
       "      <td>False</td>\n",
       "      <td>False</td>\n",
       "      <td>True</td>\n",
       "      <td>False</td>\n",
       "    </tr>\n",
       "    <tr>\n",
       "      <th>53</th>\n",
       "      <td>2021</td>\n",
       "      <td>37</td>\n",
       "      <td>99.95</td>\n",
       "      <td>False</td>\n",
       "      <td>False</td>\n",
       "      <td>False</td>\n",
       "      <td>True</td>\n",
       "      <td>False</td>\n",
       "      <td>False</td>\n",
       "      <td>False</td>\n",
       "      <td>True</td>\n",
       "      <td>False</td>\n",
       "    </tr>\n",
       "    <tr>\n",
       "      <th>54</th>\n",
       "      <td>2021</td>\n",
       "      <td>37</td>\n",
       "      <td>99.95</td>\n",
       "      <td>False</td>\n",
       "      <td>True</td>\n",
       "      <td>False</td>\n",
       "      <td>False</td>\n",
       "      <td>False</td>\n",
       "      <td>False</td>\n",
       "      <td>False</td>\n",
       "      <td>True</td>\n",
       "      <td>False</td>\n",
       "    </tr>\n",
       "    <tr>\n",
       "      <th>...</th>\n",
       "      <td>...</td>\n",
       "      <td>...</td>\n",
       "      <td>...</td>\n",
       "      <td>...</td>\n",
       "      <td>...</td>\n",
       "      <td>...</td>\n",
       "      <td>...</td>\n",
       "      <td>...</td>\n",
       "      <td>...</td>\n",
       "      <td>...</td>\n",
       "      <td>...</td>\n",
       "      <td>...</td>\n",
       "    </tr>\n",
       "    <tr>\n",
       "      <th>3075</th>\n",
       "      <td>2021</td>\n",
       "      <td>43</td>\n",
       "      <td>141.95</td>\n",
       "      <td>True</td>\n",
       "      <td>False</td>\n",
       "      <td>False</td>\n",
       "      <td>False</td>\n",
       "      <td>False</td>\n",
       "      <td>False</td>\n",
       "      <td>False</td>\n",
       "      <td>True</td>\n",
       "      <td>False</td>\n",
       "    </tr>\n",
       "    <tr>\n",
       "      <th>3076</th>\n",
       "      <td>2021</td>\n",
       "      <td>44</td>\n",
       "      <td>141.95</td>\n",
       "      <td>False</td>\n",
       "      <td>False</td>\n",
       "      <td>True</td>\n",
       "      <td>False</td>\n",
       "      <td>False</td>\n",
       "      <td>False</td>\n",
       "      <td>False</td>\n",
       "      <td>True</td>\n",
       "      <td>False</td>\n",
       "    </tr>\n",
       "    <tr>\n",
       "      <th>3077</th>\n",
       "      <td>2021</td>\n",
       "      <td>44</td>\n",
       "      <td>141.95</td>\n",
       "      <td>True</td>\n",
       "      <td>False</td>\n",
       "      <td>False</td>\n",
       "      <td>False</td>\n",
       "      <td>False</td>\n",
       "      <td>False</td>\n",
       "      <td>False</td>\n",
       "      <td>True</td>\n",
       "      <td>False</td>\n",
       "    </tr>\n",
       "    <tr>\n",
       "      <th>3078</th>\n",
       "      <td>2021</td>\n",
       "      <td>45</td>\n",
       "      <td>141.95</td>\n",
       "      <td>False</td>\n",
       "      <td>False</td>\n",
       "      <td>True</td>\n",
       "      <td>False</td>\n",
       "      <td>False</td>\n",
       "      <td>False</td>\n",
       "      <td>False</td>\n",
       "      <td>True</td>\n",
       "      <td>False</td>\n",
       "    </tr>\n",
       "    <tr>\n",
       "      <th>3079</th>\n",
       "      <td>2021</td>\n",
       "      <td>45</td>\n",
       "      <td>141.95</td>\n",
       "      <td>True</td>\n",
       "      <td>False</td>\n",
       "      <td>False</td>\n",
       "      <td>False</td>\n",
       "      <td>False</td>\n",
       "      <td>False</td>\n",
       "      <td>False</td>\n",
       "      <td>True</td>\n",
       "      <td>False</td>\n",
       "    </tr>\n",
       "  </tbody>\n",
       "</table>\n",
       "<p>2700 rows × 12 columns</p>\n",
       "</div>"
      ],
      "text/plain": [
       "      Year  Foot Number   Price  Color_colorful  Color_gold  Color_grey  \\\n",
       "50    2021           36   99.95           False       False       False   \n",
       "51    2021           36   99.95           False        True       False   \n",
       "52    2021           36   99.95            True       False       False   \n",
       "53    2021           37   99.95           False       False       False   \n",
       "54    2021           37   99.95           False        True       False   \n",
       "...    ...          ...     ...             ...         ...         ...   \n",
       "3075  2021           43  141.95            True       False       False   \n",
       "3076  2021           44  141.95           False       False        True   \n",
       "3077  2021           44  141.95            True       False       False   \n",
       "3078  2021           45  141.95           False       False        True   \n",
       "3079  2021           45  141.95            True       False       False   \n",
       "\n",
       "      Color_white  Design_modern  Design_neutral  Quality_luxury  \\\n",
       "50           True          False           False           False   \n",
       "51          False          False           False           False   \n",
       "52          False          False           False           False   \n",
       "53           True          False           False           False   \n",
       "54          False          False           False           False   \n",
       "...           ...            ...             ...             ...   \n",
       "3075        False          False           False           False   \n",
       "3076        False          False           False           False   \n",
       "3077        False          False           False           False   \n",
       "3078        False          False           False           False   \n",
       "3079        False          False           False           False   \n",
       "\n",
       "      Quality_mid-range  Quality_premium  \n",
       "50                 True            False  \n",
       "51                 True            False  \n",
       "52                 True            False  \n",
       "53                 True            False  \n",
       "54                 True            False  \n",
       "...                 ...              ...  \n",
       "3075               True            False  \n",
       "3076               True            False  \n",
       "3077               True            False  \n",
       "3078               True            False  \n",
       "3079               True            False  \n",
       "\n",
       "[2700 rows x 12 columns]"
      ]
     },
     "execution_count": 35,
     "metadata": {},
     "output_type": "execute_result"
    }
   ],
   "source": [
    "X"
   ]
  },
  {
   "cell_type": "code",
   "execution_count": null,
   "id": "199a5a72",
   "metadata": {},
   "outputs": [],
   "source": [
    "data to predict = {Year': 2024,\n",
    " 'Foot Number': 36,\n",
    " 'Color': 'black',\n",
    " 'Price': 499.99,\n",
    " 'Design': 'modern',\n",
    " 'Quality': 'luxury'}\n",
    "\n"
   ]
  },
  {
   "cell_type": "markdown",
   "id": "76ba6179",
   "metadata": {},
   "source": [
    "### Decision Tree\n",
    "R²: 0.90 (±0.015) \\\n",
    "Explains a significant portion of the variance in sales. \\\n",
    "\\\n",
    "RMSE: 7.36 (±0.37) \\\n",
    "Low prediction error compared to actual sales. \n",
    "\n",
    "### Linear Regression\n",
    "R²: 0.73 (±0.27) \\\n",
    "Explains only 73% of the variance in sales, significantly lower than the Decision Tree. \\\n",
    "\\\n",
    "RMSE: 12.17 (±0.19) \\\n",
    "Higher error, showing less accurate predictions compared to the Decision Tree. \n",
    "\n",
    "\n",
    "### Conclusion\n",
    "-The Decision Tree model significantly outperforms Linear Regression across all metrics, making it the better choice for this dataset. \\\n",
    "-The low R² and high RMSE for Linear Regression suggest non-linear relationships in the data that the Decision Tree can better capture. "
   ]
  },
  {
   "cell_type": "code",
   "execution_count": null,
   "id": "0e707fd0",
   "metadata": {},
   "outputs": [],
   "source": []
  }
 ],
 "metadata": {
  "kernelspec": {
   "display_name": "Python 3 (ipykernel)",
   "language": "python",
   "name": "python3"
  },
  "language_info": {
   "codemirror_mode": {
    "name": "ipython",
    "version": 3
   },
   "file_extension": ".py",
   "mimetype": "text/x-python",
   "name": "python",
   "nbconvert_exporter": "python",
   "pygments_lexer": "ipython3",
   "version": "3.9.7"
  }
 },
 "nbformat": 4,
 "nbformat_minor": 5
}
